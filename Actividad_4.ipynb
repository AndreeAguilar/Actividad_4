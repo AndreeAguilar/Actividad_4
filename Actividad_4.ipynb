{
  "nbformat": 4,
  "nbformat_minor": 0,
  "metadata": {
    "colab": {
      "provenance": [],
      "include_colab_link": true
    },
    "kernelspec": {
      "name": "python3",
      "display_name": "Python 3"
    },
    "language_info": {
      "name": "python"
    }
  },
  "cells": [
    {
      "cell_type": "markdown",
      "metadata": {
        "id": "view-in-github",
        "colab_type": "text"
      },
      "source": [
        "<a href=\"https://colab.research.google.com/github/AndreeAguilar/Actividad_4/blob/main/Actividad_4.ipynb\" target=\"_parent\"><img src=\"https://colab.research.google.com/assets/colab-badge.svg\" alt=\"Open In Colab\"/></a>"
      ]
    },
    {
      "cell_type": "code",
      "execution_count": null,
      "metadata": {
        "id": "zIopumTrWbMB"
      },
      "outputs": [],
      "source": [
        "#Importamos las librerías pandas, numpy y matplotlib respectivamente\n",
        "import pandas as pd\n",
        "import numpy as np\n",
        "import matplotlib.pyplot as plt\n",
        "import seaborn as sns"
      ]
    },
    {
      "cell_type": "code",
      "source": [
        "import pandas as pd\n",
        "import numpy as np\n",
        "import matplotlib.pyplot as plt\n",
        "import scipy.special as special\n",
        "from scipy.optimize import curve_fit\n",
        "import seaborn as sns\n",
        "from sklearn.metrics import r2_score\n",
        "from sklearn.model_selection import train_test_split\n",
        "from sklearn.preprocessing import StandardScaler"
      ],
      "metadata": {
        "id": "N3FrqLdyeMnX"
      },
      "execution_count": null,
      "outputs": []
    },
    {
      "cell_type": "code",
      "source": [
        "#Cargar archivo excel desde equipo\n",
        "from google.colab import files\n",
        "files.upload()"
      ],
      "metadata": {
        "id": "0Zegyo17W_Me"
      },
      "execution_count": null,
      "outputs": []
    },
    {
      "cell_type": "code",
      "source": [
        "#Carga desde un archivo .csv sin indice\n",
        "data2=pd.read_excel('microretailer_mit_lift_lab_actualizado.xlsx') "
      ],
      "metadata": {
        "id": "aeY6pRQnXebJ"
      },
      "execution_count": null,
      "outputs": []
    },
    {
      "cell_type": "code",
      "source": [
        "# Aplicamos filtro por columnas para separar datos cuantitativos y datos cualitativos 50,52 61,62\n",
        "filtro_cuantitativos_2=data2.iloc[ : , [5,6,13,14,16,21,22,29,31,33,42,58,59,60,90]]\n",
        "filtro_cualitativos_2=data2.iloc[ : , [0,1,2,3,4,7,8,9,10,11,12,15,17,18,19,20,23,24,25,26,27,28,30,32,34,35,36,37,38,39,40,41,43,44,45,46,47,48,49,51,53,54,55,56,57,63,64,65,66,67,68,69,70,71,72,73,74,75,76,77,78,79,80,81,88,83,84,85,86,87,88,89,91,92,93,94,95,96,97,98,99,100,101,102,103,104]]"
      ],
      "metadata": {
        "id": "_T0v-5_oYHA0"
      },
      "execution_count": null,
      "outputs": []
    },
    {
      "cell_type": "code",
      "source": [
        "#Reemplazamos valores nulos del dataframe con \"mean\"\n",
        "filtro_cuantitativos_2=filtro_cuantitativos_2.fillna(round(filtro_cuantitativos_2.mean(),1))"
      ],
      "metadata": {
        "id": "XOtU-q6jYOTh"
      },
      "execution_count": null,
      "outputs": []
    },
    {
      "cell_type": "code",
      "source": [
        "#Corroboramos valores nulos de los datos cuantitativos\n",
        "valores_nulos=filtro_cuantitativos_2.isnull().sum()\n",
        "valores_nulos"
      ],
      "metadata": {
        "id": "H-fiF6V_YPIx"
      },
      "execution_count": null,
      "outputs": []
    },
    {
      "cell_type": "code",
      "source": [
        "#Método aplicando Cuartiles. Encuentro cuartiles 0.25 y 0.75\n",
        "y=filtro_cuantitativos_2\n",
        "\n",
        "percentile25=y.quantile(0.25) #Q1\n",
        "percentile75=y.quantile(0.75) #Q3\n",
        "iqr= percentile75 - percentile25\n",
        "\n",
        "Limite_Superior_iqr= percentile75 + 1.5*iqr\n",
        "Limite_Inferior_iqr= percentile25 - 1.5*iqr\n",
        "print(\"Limite superior permitido\", Limite_Superior_iqr)\n",
        "print(\"Limite inferior permitido\", Limite_Inferior_iqr)"
      ],
      "metadata": {
        "id": "Gq5cqDJzYnbo"
      },
      "execution_count": null,
      "outputs": []
    },
    {
      "cell_type": "code",
      "source": [
        "#Encontramos Outliers del Dataframe\n",
        "outliers_iqr=filtro_cuantitativos_2[(y>Limite_Superior_iqr)|(y<Limite_Inferior_iqr)]"
      ],
      "metadata": {
        "id": "UolrqvAEYsYa"
      },
      "execution_count": null,
      "outputs": []
    },
    {
      "cell_type": "code",
      "source": [
        "#Obtenemos datos limpios del Dataframe\n",
        "data3_iqr=filtro_cuantitativos_2[(y<=Limite_Superior_iqr)&(y>=Limite_Inferior_iqr)]"
      ],
      "metadata": {
        "id": "YawLErEiYwZ_"
      },
      "execution_count": null,
      "outputs": []
    },
    {
      "cell_type": "code",
      "source": [
        "#Corroboramos valores nulos del dataframe LIMPIO\n",
        "valores_nulos=data3_iqr.isnull().sum()\n",
        "valores_nulos"
      ],
      "metadata": {
        "id": "7rObLrybYzVa"
      },
      "execution_count": null,
      "outputs": []
    },
    {
      "cell_type": "code",
      "source": [
        "#Reemplazamos valores atípicos (nulos) del dataframe con \"mean\"\n",
        "#Realizamos una copia del dataframe\n",
        "data5_iqr=data3_iqr.copy()\n",
        "data5_iqr=data5_iqr.fillna(round(data3_iqr.mean(),1))"
      ],
      "metadata": {
        "id": "n2w7Z3zvYz3q"
      },
      "execution_count": null,
      "outputs": []
    },
    {
      "cell_type": "code",
      "source": [
        "#Reemplazamos valores nulos restantez del dataframe con \"bfill\" y \"ffill\"\n",
        "filtro_cualitativos_2=filtro_cualitativos_2.fillna(method=\"bfill\") \n",
        "filtro_cualitativos_2=filtro_cualitativos_2.fillna(method=\"ffill\") "
      ],
      "metadata": {
        "id": "9DvwGzKzYXIq"
      },
      "execution_count": null,
      "outputs": []
    },
    {
      "cell_type": "code",
      "source": [
        "#Corroboramos valores nulos cualitativos\n",
        "valores_nulos=filtro_cualitativos_2.isnull().sum()\n",
        "valores_nulos"
      ],
      "metadata": {
        "id": "qxB9t-cyYZwY"
      },
      "execution_count": null,
      "outputs": []
    },
    {
      "cell_type": "code",
      "source": [
        "# Unimos los datos cuantitativos y los datos cualitativos\n",
        "Datos_limpios_microretailer_mit_lift_lab = pd.concat([filtro_cualitativos_2, data5_iqr], axis=1)"
      ],
      "metadata": {
        "id": "ustrnw65Y-_8"
      },
      "execution_count": null,
      "outputs": []
    },
    {
      "cell_type": "markdown",
      "source": [
        "**Regresión lineal múltiple**"
      ],
      "metadata": {
        "id": "7mmNMPe0ZB9l"
      }
    },
    {
      "cell_type": "code",
      "source": [
        "#Cargar archivo csv desde seaborn\n",
        "df=Datos_limpios_microretailer_mit_lift_lab\n",
        "df.head(5)"
      ],
      "metadata": {
        "id": "TgPpxBteZKQR"
      },
      "execution_count": null,
      "outputs": []
    },
    {
      "cell_type": "code",
      "source": [
        "#Se grafican mapas de dispersión de las variables 2 variables\n",
        "from turtle import color\n",
        "\n",
        "sns.scatterplot(x='64_comission_services', y='66_percentaje_services_income', color='red', data=df)"
      ],
      "metadata": {
        "colab": {
          "base_uri": "https://localhost:8080/",
          "height": 299
        },
        "id": "-_1f1RlzZdOO",
        "outputId": "08b93566-7b56-4781-ca06-b160335b02ba"
      },
      "execution_count": null,
      "outputs": [
        {
          "output_type": "execute_result",
          "data": {
            "text/plain": [
              "<matplotlib.axes._subplots.AxesSubplot at 0x7fbb1c0ef250>"
            ]
          },
          "metadata": {},
          "execution_count": 20
        },
        {
          "output_type": "display_data",
          "data": {
            "text/plain": [
              "<Figure size 432x288 with 1 Axes>"
            ],
            "image/png": "[encoded data removed]"
          },
          "metadata": {
            "needs_background": "light"
          }
        }
      ]
    },
    {
      "cell_type": "code",
      "source": [
        "#Declaramos las variables dependientes e independientes para la regresión lineal\n",
        "Vars_Indep=df[['66_percentaje_services_income']]\n",
        "Var_Dep=df['64_comission_services']"
      ],
      "metadata": {
        "id": "bXBNQfJwa6cP"
      },
      "execution_count": null,
      "outputs": []
    },
    {
      "cell_type": "code",
      "source": [
        "#Se define model como la función de regresión lineal\n",
        "from sklearn.linear_model import LinearRegression\n",
        "model=LinearRegression()"
      ],
      "metadata": {
        "id": "jkDjkr4sbHHw"
      },
      "execution_count": null,
      "outputs": []
    },
    {
      "cell_type": "code",
      "source": [
        "#Verificamos la función relacionada al modelo\n",
        "type(model)"
      ],
      "metadata": {
        "colab": {
          "base_uri": "https://localhost:8080/"
        },
        "id": "aikeL9i8bJeZ",
        "outputId": "7a37e6ce-2d1e-43f3-88ba-454852c4c78c"
      },
      "execution_count": null,
      "outputs": [
        {
          "output_type": "execute_result",
          "data": {
            "text/plain": [
              "sklearn.linear_model._base.LinearRegression"
            ]
          },
          "metadata": {},
          "execution_count": 23
        }
      ]
    },
    {
      "cell_type": "code",
      "source": [
        "#Ajustamos el modelo con las variables antes declaradas\n",
        "model.fit(X=Vars_Indep, y=Var_Dep)"
      ],
      "metadata": {
        "id": "1jpQOcbvbL1Z"
      },
      "execution_count": null,
      "outputs": []
    },
    {
      "cell_type": "code",
      "source": [
        "#Verficamos los coeficientes obtenidos para el modelo ajustado\n",
        "model.__dict__"
      ],
      "metadata": {
        "id": "AlsGMNaQbOk1"
      },
      "execution_count": null,
      "outputs": []
    },
    {
      "cell_type": "code",
      "source": [
        "#Evaluamos la eficiencia del modelo obtenido por medio del coeficiente R2 determinación\n",
        "model.score(Vars_Indep, Var_Dep)"
      ],
      "metadata": {
        "id": "WtfppEL-bRkG"
      },
      "execution_count": null,
      "outputs": []
    },
    {
      "cell_type": "markdown",
      "source": [
        "Regresión logistica"
      ],
      "metadata": {
        "id": "bWVqurQkdiYb"
      }
    },
    {
      "cell_type": "code",
      "source": [
        "#Declaramos las variables dependientes e independientes para la regresión Logística. Nota: Las variables independientes solo pueden ser númericas\n",
        "Vars_Indep=df['2_current_permanent_employees']\n",
        "Vars_Dep=df['20_reviews_finances_monthly']"
      ],
      "metadata": {
        "id": "_S8RIYTKdNzQ"
      },
      "execution_count": null,
      "outputs": []
    },
    {
      "cell_type": "code",
      "source": [
        "#Redefinimos las variables\n",
        "X=Vars_Indep\n",
        "y=Vars_Dep"
      ],
      "metadata": {
        "id": "Qhyv_XweeDUr"
      },
      "execution_count": null,
      "outputs": []
    },
    {
      "cell_type": "code",
      "source": [
        "#Definimos el conjunto de datos en la parte de entrenamiento y prueba:\n",
        "X_train, X_test, y_train, y_test = train_test_split(X, y, test_size=0.3, random_state=None)"
      ],
      "metadata": {
        "id": "IilBgW2PeGug"
      },
      "execution_count": null,
      "outputs": []
    },
    {
      "cell_type": "code",
      "source": [
        "#Se escalan los datos\n",
        "escalar=StandardScaler()"
      ],
      "metadata": {
        "id": "j3BBA25ZeWqL"
      },
      "execution_count": null,
      "outputs": []
    },
    {
      "cell_type": "code",
      "source": [
        "#Para realizar el escalamiento de las variables \"X\" tanto de entrenamiento como prueba, utilizaremos fit_transform\n",
        "X_train=escalar.fit_transform(X_train)\n",
        "X_test=escalar.transform(X_test)"
      ],
      "metadata": {
        "id": "J6bH6RFleRXM"
      },
      "execution_count": null,
      "outputs": []
    },
    {
      "cell_type": "code",
      "source": [
        "#Definimos el algoritmo a utilizar\n",
        "from sklearn.linear_model import LogisticRegression\n",
        "algoritmo=LogisticRegression()"
      ],
      "metadata": {
        "id": "mLzPz3QzeUfx"
      },
      "execution_count": null,
      "outputs": []
    }
  ]
}